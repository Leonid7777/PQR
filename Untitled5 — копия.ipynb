{
  "nbformat": 4,
  "nbformat_minor": 0,
  "metadata": {
    "colab": {
      "provenance": []
    },
    "kernelspec": {
      "name": "python3",
      "display_name": "Python 3"
    },
    "language_info": {
      "name": "python"
    }
  },
  "cells": [
    {
      "cell_type": "code",
      "execution_count": 428,
      "metadata": {
        "id": "kRd_bD3bo4Oj"
      },
      "outputs": [],
      "source": [
        "import numpy as np"
      ]
    },
    {
      "cell_type": "code",
      "source": [
        "def PQR(mat, n, r = 0):\n",
        "    matrix = mat.copy()\n",
        "\n",
        "    if not r or r > n:\n",
        "        r = n\n",
        "\n",
        "    Q = np.zeros((n, r))\n",
        "    R = np.zeros((r, n))\n",
        "    P = np.eye(n)\n",
        "\n",
        "    for i in range(r):\n",
        "\n",
        "        norms = np.array([np.linalg.norm(matrix[:, j]) for j in range(i, n)])\n",
        "        args = np.argsort(norms)[::-1]\n",
        "        args += i\n",
        "\n",
        "        P[:, i:] = P[:, args]\n",
        "        R[:, i:] = R[:, args]\n",
        "        matrix[:, i:] = matrix[:, args]\n",
        "\n",
        "        R[i, i] = norms[args[0] - i]\n",
        "        Q[:, i] = matrix[:, i] / R[i, i]\n",
        "\n",
        "        for j in range(i + 1, n):\n",
        "            R[i, j] = matrix[:, j] @ Q[:, i]\n",
        "            matrix[:, j] -= R[i, j] * Q[:, i]\n",
        "\n",
        "    return Q, R, P"
      ],
      "metadata": {
        "id": "CwxA0rg0weHt"
      },
      "execution_count": 465,
      "outputs": []
    },
    {
      "cell_type": "code",
      "source": [
        "def maxval(mat, n, r):\n",
        "\n",
        "    if not r or r > n:\n",
        "          r = n\n",
        "\n",
        "    Q, R, P = PQR(mat, n, r)\n",
        "\n",
        "    matrix = mat @ P\n",
        "\n",
        "    C = matrix[:, :r]\n",
        "    A = C[:r, :]\n",
        "    inv_A = np.linalg.inv(A)\n",
        "\n",
        "    prod = C @ inv_A\n",
        "\n",
        "    max_val_ind = ind = np.unravel_index(np.argmax(np.abs(prod), axis=None), prod.shape)\n",
        "\n",
        "    iter = 0\n",
        "\n",
        "    R = np.arange(r)\n",
        "\n",
        "    while max_val_ind[0] >= r and iter < r * r:\n",
        "\n",
        "        iter += 1\n",
        "\n",
        "        vec = prod[max_val_ind[0], :].copy()\n",
        "        vec[max_val_ind[1]] -= 1\n",
        "        vec /= prod[max_val_ind]\n",
        "\n",
        "        prod -= prod[:, max_val_ind[1]].reshape((-1, 1)) @ vec.reshape((1, -1))\n",
        "\n",
        "        R[max_val_ind[1]] = max_val_ind[0]\n",
        "\n",
        "        max_val_ind = np.unravel_index(np.argmax(np.abs(prod), axis=None), prod.shape)\n",
        "\n",
        "    R = matrix[R, :]\n",
        "\n",
        "    return prod, R, P"
      ],
      "metadata": {
        "id": "ZyPBSdZHjPaI"
      },
      "execution_count": 606,
      "outputs": []
    },
    {
      "cell_type": "code",
      "source": [
        "n = 777\n",
        "matrix = np.zeros((n, n))\n",
        "\n",
        "for i in range(n):\n",
        "    for j in range(n):\n",
        "        matrix[i, j] = np.sin(i + j)\n",
        "\n",
        "prod, R, P = maxval(matrix, n, 2)\n",
        "\n",
        "print(np.linalg.norm(prod @ R - matrix @ P))"
      ],
      "metadata": {
        "colab": {
          "base_uri": "https://localhost:8080/"
        },
        "id": "wPkmnvdXpXvv",
        "outputId": "7428183e-3103-40ba-80f5-5875b9a1a1ef"
      },
      "execution_count": 610,
      "outputs": [
        {
          "output_type": "stream",
          "name": "stdout",
          "text": [
            "8.20589368819001e-14\n"
          ]
        }
      ]
    }
  ]
}