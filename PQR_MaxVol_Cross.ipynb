{
  "nbformat": 4,
  "nbformat_minor": 0,
  "metadata": {
    "colab": {
      "provenance": []
    },
    "kernelspec": {
      "name": "python3",
      "display_name": "Python 3"
    },
    "language_info": {
      "name": "python"
    }
  },
  "cells": [
    {
      "cell_type": "markdown",
      "source": [
        "# Import packages"
      ],
      "metadata": {
        "id": "u27llm79t282"
      }
    },
    {
      "cell_type": "code",
      "execution_count": 16,
      "metadata": {
        "id": "kRd_bD3bo4Oj"
      },
      "outputs": [],
      "source": [
        "import numpy as np\n",
        "import time\n",
        "from copy import deepcopy"
      ]
    },
    {
      "cell_type": "markdown",
      "source": [
        "# PQR"
      ],
      "metadata": {
        "id": "DcsvYtByuDZR"
      }
    },
    {
      "cell_type": "code",
      "source": [
        "def PQR(matrix, n, m, r = 0, eps = 0):\n",
        "\n",
        "    if not r or r > min(m, n):\n",
        "        r = min(m, n)\n",
        "\n",
        "    Q = np.zeros((n, r))\n",
        "    R = np.zeros((r, m))\n",
        "    P = np.arange(m)\n",
        "\n",
        "    tol = eps + 1\n",
        "    i = 0\n",
        "\n",
        "    while i < r and tol > eps:\n",
        "\n",
        "        norms = np.array([np.linalg.norm(matrix[:, j]) for j in range(i, m)])\n",
        "        tol = np.sqrt(np.sum(norms**2))\n",
        "        args = np.argsort(norms)[::-1]\n",
        "        args += i\n",
        "\n",
        "        P[[i, args[0]]] = P[[args[0], i]]\n",
        "        R[:, [i, args[0]]]  = R[:, [args[0], i]]\n",
        "        matrix[:, [i, args[0]]] = matrix[:, [args[0], i]]\n",
        "\n",
        "        R[i, i] = norms[args[0] - i]\n",
        "        Q[:, i] = matrix[:, i] / R[i, i]\n",
        "\n",
        "        for j in range(i + 1, m):\n",
        "            R[i, j] = matrix[:, j] @ Q[:, i]\n",
        "            matrix[:, j] -= R[i, j] * Q[:, i]\n",
        "\n",
        "        i += 1\n",
        "\n",
        "    return Q, R, P, i"
      ],
      "metadata": {
        "id": "Gbgwj3sBFTtA"
      },
      "execution_count": 17,
      "outputs": []
    },
    {
      "cell_type": "markdown",
      "source": [
        "# MaxVol"
      ],
      "metadata": {
        "id": "5PurFddzuAO8"
      }
    },
    {
      "cell_type": "code",
      "source": [
        "def maxvol(mat, n, m, r, eps = 0):\n",
        "\n",
        "    if not r or r > min(n, m):\n",
        "          r = min(n, m)\n",
        "\n",
        "    rows = np.random.permutation(n)\n",
        "    B = mat[rows[:r], :]\n",
        "    _, _, cols, rank = PQR(B, r, m, r, eps)\n",
        "\n",
        "\n",
        "    rev_rows = np.zeros(n, dtype=int)\n",
        "    rev_cols = np.zeros(m, dtype=int)\n",
        "\n",
        "    for i in range(n):\n",
        "        rev_rows[rows[i]] = i\n",
        "    for i in range(m):\n",
        "        rev_cols[cols[i]] = i\n",
        "\n",
        "    matrix = mat[np.ix_(rows, cols)]\n",
        "\n",
        "    R = np.arange(r)\n",
        "\n",
        "    C = matrix[:, :r]\n",
        "    A = C[:r, :]\n",
        "\n",
        "    inv_A = np.linalg.inv(A)\n",
        "\n",
        "    prod = C @ inv_A\n",
        "\n",
        "    max_val_ind = np.unravel_index(np.argmax(np.abs(prod), axis=None), prod.shape)\n",
        "\n",
        "    iter = 0\n",
        "\n",
        "    while np.abs(prod[max_val_ind]) > 1 and max_val_ind[0] >= r and iter < r * r:\n",
        "\n",
        "        iter += 1\n",
        "\n",
        "        vec = prod[max_val_ind[0], :].copy()\n",
        "        vec[max_val_ind[1]] -= 1\n",
        "        vec /= prod[max_val_ind]\n",
        "\n",
        "        prod -= prod[:, max_val_ind[1]].reshape((-1, 1)) @ vec.reshape((1, -1))\n",
        "\n",
        "        R[max_val_ind[1]] = max_val_ind[0]\n",
        "\n",
        "        max_val_ind = np.unravel_index(np.argmax(np.abs(prod), axis=None), prod.shape)\n",
        "\n",
        "    prod = prod[rev_rows, :]\n",
        "    R = matrix[np.ix_(R, rev_cols)]\n",
        "\n",
        "    return prod, R"
      ],
      "metadata": {
        "id": "ZyPBSdZHjPaI"
      },
      "execution_count": 18,
      "outputs": []
    },
    {
      "cell_type": "markdown",
      "source": [
        "# Cross Approximation"
      ],
      "metadata": {
        "id": "W-jIGQuTuGrb"
      }
    },
    {
      "cell_type": "code",
      "source": [
        "def cross_approx(matrix, n, m, r = 0, eps = 0):\n",
        "\n",
        "    if not r and r > min(m, n):\n",
        "        r = min(m, n)\n",
        "\n",
        "    Q = np.zeros((n, r))\n",
        "    R = np.zeros((r, m))\n",
        "\n",
        "    vec = np.arange(m)\n",
        "\n",
        "    i = 0\n",
        "\n",
        "    max_el = eps + 1\n",
        "\n",
        "    while i < r and max_el * np.sqrt((n - i) * (m - i)) > eps:\n",
        "\n",
        "        ind = np.random.randint(m - i)\n",
        "        col = vec[ind]\n",
        "\n",
        "        row = np.argmax(np.abs(matrix[:, col]), axis=None)\n",
        "        col = np.argmax(np.abs(matrix[row, :]), axis=None)\n",
        "        row = np.argmax(np.abs(matrix[:, col]), axis=None)\n",
        "\n",
        "        Q[:, i] = matrix[:, col] / matrix[row, col]\n",
        "        R[i, :] = matrix[row, :]\n",
        "\n",
        "        max_el = np.abs(matrix[row, col])\n",
        "\n",
        "        matrix -= Q[:, i].reshape((-1, 1)) @ R[i, :].reshape((1, -1))\n",
        "\n",
        "        ind = np.where(vec == col)[0][0]\n",
        "\n",
        "        vec = np.delete(vec, ind)\n",
        "\n",
        "        i += 1\n",
        "\n",
        "    return Q, R, i"
      ],
      "metadata": {
        "id": "T9PgcBUqwnzi"
      },
      "execution_count": 19,
      "outputs": []
    },
    {
      "cell_type": "markdown",
      "source": [
        "# Cross Approximation Dzheltkov"
      ],
      "metadata": {
        "id": "QKQqB9VTWSHr"
      }
    },
    {
      "cell_type": "code",
      "source": [
        "def cross_approx_dzh(matrix, n, m, r = 0, eps = 0):\n",
        "\n",
        "    if not r and r > min(m, n):\n",
        "        r = min(m, n)\n",
        "\n",
        "    Q = np.zeros((n, r))\n",
        "    R = np.zeros((r, m))\n",
        "\n",
        "    vec = np.arange(m)\n",
        "\n",
        "    i = 0\n",
        "\n",
        "    max_el = eps + 1\n",
        "\n",
        "    rows = np.zeros((r, m))\n",
        "    id_rows = np.ones(r, dtype=int) * n\n",
        "    free_row = 0\n",
        "    cols = np.zeros((n, r))\n",
        "    id_cols = np.ones(r, dtype=int) * m\n",
        "    free_col = 0\n",
        "\n",
        "    while i < r and max_el * np.sqrt((n - i) * (m - i)) > eps:\n",
        "\n",
        "        ind = np.random.randint(m - i)\n",
        "        col = vec[ind]\n",
        "\n",
        "        if col in id_cols:\n",
        "            val = np.where(id_cols == col)[0][0]\n",
        "            row = np.argmax(np.abs(cols[:, val]), axis=None)\n",
        "        else:\n",
        "            row = np.argmax(np.abs(matrix[:, col]), axis=None)\n",
        "            id_cols[free_col] = col\n",
        "            cols[:, free_col] = matrix[:, col]\n",
        "            free_col += 1\n",
        "\n",
        "        if row in id_rows:\n",
        "            val = np.where(id_rows == row)[0][0]\n",
        "            col = np.argmax(np.abs(rows[val, :]), axis=None)\n",
        "        else:\n",
        "            col = np.argmax(np.abs(matrix[row, :]), axis=None)\n",
        "            id_rows[free_row] = row\n",
        "            rows[free_row, :] = matrix[row, :]\n",
        "            free_row += 1\n",
        "\n",
        "        if col in id_cols:\n",
        "            val = np.where(id_cols == col)[0][0]\n",
        "            row = np.argmax(np.abs(cols[:, val]), axis=None)\n",
        "        else:\n",
        "            row = np.argmax(np.abs(matrix[:, col]), axis=None)\n",
        "\n",
        "        if row in id_rows:\n",
        "            val = np.where(id_rows == row)[0][0]\n",
        "            rows = np.delete(rows, val, 0)\n",
        "            id_rows = np.delete(id_rows, val)\n",
        "            free_row -= 1\n",
        "\n",
        "        if col in id_cols:\n",
        "            val = np.where(id_cols == col)[0][0]\n",
        "            cols = np.delete(cols, val, 1)\n",
        "            id_cols = np.delete(id_cols, val)\n",
        "            free_col -= 1\n",
        "\n",
        "\n",
        "        Q[:, i] = matrix[:, col] / matrix[row, col]\n",
        "        R[i, :] = matrix[row, :]\n",
        "\n",
        "        matrix -= Q[:, i].reshape((-1, 1)) @ R[i, :].reshape((1, -1))\n",
        "\n",
        "        if free_row:\n",
        "            rows[:free_row, :] -= Q[id_rows[:free_row], i].reshape((-1, 1)) @ R[i, :].reshape((1, -1))\n",
        "        if free_col:\n",
        "            cols[:, :free_col] -= Q[:, i].reshape((-1, 1)) @ R[i, id_cols[:free_col]].reshape((1, -1))\n",
        "\n",
        "        ind = np.where(vec == col)[0][0]\n",
        "\n",
        "        vec = np.delete(vec, ind)\n",
        "\n",
        "        i += 1\n",
        "\n",
        "        max_el = np.sqrt(np.linalg.norm(rows[:free_row, :])**2 + np.linalg.norm(cols[:, :free_col])**2 - np.linalg.norm(cols[id_rows[:free_row], :free_col])**2)\n",
        "\n",
        "    return Q, R, i"
      ],
      "metadata": {
        "id": "k_CSU-N7WRGc"
      },
      "execution_count": 25,
      "outputs": []
    },
    {
      "cell_type": "markdown",
      "source": [
        "# Create matrix"
      ],
      "metadata": {
        "id": "kZZ99FIhs7u5"
      }
    },
    {
      "cell_type": "code",
      "source": [
        "n = 10\n",
        "m = 10\n",
        "mat_cr = np.zeros((n, m))\n",
        "\n",
        "for i in range(n):\n",
        "    for j in range(m):\n",
        "        mat_cr[i, j] = 1 / (i + j + 1)"
      ],
      "metadata": {
        "id": "YjdIq508_T0k"
      },
      "execution_count": 26,
      "outputs": []
    },
    {
      "cell_type": "code",
      "source": [
        "matrix = mat_cr.copy()\n",
        "mat_copy = mat_cr.copy()"
      ],
      "metadata": {
        "id": "5Y2kE32CBiMT"
      },
      "execution_count": 27,
      "outputs": []
    },
    {
      "cell_type": "markdown",
      "source": [
        "# Run Cross Approximation"
      ],
      "metadata": {
        "id": "blQURv74s_-x"
      }
    },
    {
      "cell_type": "code",
      "source": [
        "start_time = time.time()\n",
        "Q, R, rank = cross_approx_dzh(matrix, n, m, 7)\n",
        "end_time = time.time()\n",
        "print(f\"time = {end_time - start_time}\")\n",
        "\n",
        "print(np.linalg.norm(Q @ R - mat_copy) / np.linalg.norm(mat_copy))"
      ],
      "metadata": {
        "colab": {
          "base_uri": "https://localhost:8080/"
        },
        "id": "wPkmnvdXpXvv",
        "outputId": "d5b9a73f-056c-4b11-edb0-d3c6a28e2a48"
      },
      "execution_count": 28,
      "outputs": [
        {
          "output_type": "stream",
          "name": "stdout",
          "text": [
            "time = 0.01016545295715332\n",
            "1.6228970729719229e-09\n"
          ]
        }
      ]
    },
    {
      "cell_type": "markdown",
      "source": [
        "# Run PQR"
      ],
      "metadata": {
        "id": "CUD3lzQ8tDOX"
      }
    },
    {
      "cell_type": "code",
      "source": [
        "start_time = time.time()\n",
        "Q, R, P, rank = PQR(matrix, n, m, 10)\n",
        "end_time = time.time()\n",
        "print(f\"time = {end_time - start_time}\")\n",
        "\n",
        "print(np.linalg.norm(Q @ R - mat_copy[:, P]) / np.linalg.norm(mat_copy))"
      ],
      "metadata": {
        "colab": {
          "base_uri": "https://localhost:8080/"
        },
        "id": "J1oaiZp7ACKU",
        "outputId": "23507693-d350-4457-c8c8-c78aa708bf16"
      },
      "execution_count": 104,
      "outputs": [
        {
          "output_type": "stream",
          "name": "stdout",
          "text": [
            "time = 0.0022275447845458984\n",
            "6.9843349160528e-17\n"
          ]
        }
      ]
    },
    {
      "cell_type": "markdown",
      "source": [
        "# Run MaxVol"
      ],
      "metadata": {
        "id": "wzAYOA-otEfn"
      }
    },
    {
      "cell_type": "code",
      "source": [
        "start_time = time.time()\n",
        "Q, R = maxvol(matrix, n, m, 2)\n",
        "end_time = time.time()\n",
        "print(f\"time = {end_time - start_time}\")\n",
        "\n",
        "print(np.linalg.norm(Q @ R - mat_copy) / np.linalg.norm(mat_copy))"
      ],
      "metadata": {
        "colab": {
          "base_uri": "https://localhost:8080/"
        },
        "id": "KQAznHfbq-vY",
        "outputId": "c41a588f-8e0e-494a-988e-d904e2334ad2"
      },
      "execution_count": 53,
      "outputs": [
        {
          "output_type": "stream",
          "name": "stdout",
          "text": [
            "time = 0.6902766227722168\n",
            "1.296308361851803e-16\n"
          ]
        }
      ]
    },
    {
      "cell_type": "code",
      "source": [
        "a = np.arange(12).reshape(3, 4)\n",
        "print(a)\n",
        "print()\n",
        "a = np.delete(a, 2, 1)\n",
        "print(a)"
      ],
      "metadata": {
        "colab": {
          "base_uri": "https://localhost:8080/"
        },
        "id": "VHtje5wme4tX",
        "outputId": "0bd0e2de-e27a-4b8e-d09f-49623684b64c"
      },
      "execution_count": 45,
      "outputs": [
        {
          "output_type": "stream",
          "name": "stdout",
          "text": [
            "[[ 0  1  2  3]\n",
            " [ 4  5  6  7]\n",
            " [ 8  9 10 11]]\n",
            "\n",
            "[[ 0  1  3]\n",
            " [ 4  5  7]\n",
            " [ 8  9 11]]\n"
          ]
        }
      ]
    },
    {
      "cell_type": "code",
      "source": [
        "print(np.random.randint(10))"
      ],
      "metadata": {
        "colab": {
          "base_uri": "https://localhost:8080/"
        },
        "id": "WtlTi6U0pClU",
        "outputId": "68aed6c3-be51-4ae7-d4f9-c37af2576403"
      },
      "execution_count": 134,
      "outputs": [
        {
          "output_type": "stream",
          "name": "stdout",
          "text": [
            "2\n"
          ]
        }
      ]
    }
  ]
}