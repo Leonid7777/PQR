{
  "nbformat": 4,
  "nbformat_minor": 0,
  "metadata": {
    "colab": {
      "provenance": []
    },
    "kernelspec": {
      "name": "python3",
      "display_name": "Python 3"
    },
    "language_info": {
      "name": "python"
    }
  },
  "cells": [
    {
      "cell_type": "markdown",
      "source": [
        "# Import packages"
      ],
      "metadata": {
        "id": "u27llm79t282"
      }
    },
    {
      "cell_type": "code",
      "execution_count": 39,
      "metadata": {
        "id": "kRd_bD3bo4Oj"
      },
      "outputs": [],
      "source": [
        "import numpy as np\n",
        "import scipy.sparse.linalg as lg\n",
        "import time\n",
        "from copy import deepcopy"
      ]
    },
    {
      "cell_type": "markdown",
      "source": [
        "# PQR"
      ],
      "metadata": {
        "id": "DcsvYtByuDZR"
      }
    },
    {
      "cell_type": "code",
      "source": [
        "def PQR(matrix, n, m, r = 0, eps = 0):\n",
        "\n",
        "    if not r or r > min(m, n):\n",
        "        r = min(m, n)\n",
        "\n",
        "    Q = np.zeros((n, r))\n",
        "    R = np.zeros((r, m))\n",
        "    P = np.arange(m)\n",
        "\n",
        "    tol = eps + 1\n",
        "    i = 0\n",
        "\n",
        "    while i < r and tol > eps:\n",
        "\n",
        "        norms = np.array([np.linalg.norm(matrix[:, j]) for j in range(i, m)])\n",
        "        tol = np.sqrt(np.sum(norms**2))\n",
        "        args = np.argsort(norms)[::-1]\n",
        "        args += i\n",
        "\n",
        "        P[[i, args[0]]] = P[[args[0], i]]\n",
        "        R[:, [i, args[0]]]  = R[:, [args[0], i]]\n",
        "        matrix[:, [i, args[0]]] = matrix[:, [args[0], i]]\n",
        "\n",
        "        R[i, i] = norms[args[0] - i]\n",
        "        Q[:, i] = matrix[:, i] / R[i, i]\n",
        "\n",
        "        for j in range(i + 1, m):\n",
        "            R[i, j] = matrix[:, j] @ Q[:, i]\n",
        "            matrix[:, j] -= R[i, j] * Q[:, i]\n",
        "\n",
        "        i += 1\n",
        "\n",
        "    return Q, R, P, i"
      ],
      "metadata": {
        "id": "Gbgwj3sBFTtA"
      },
      "execution_count": 2,
      "outputs": []
    },
    {
      "cell_type": "markdown",
      "source": [
        "# MaxVol"
      ],
      "metadata": {
        "id": "5PurFddzuAO8"
      }
    },
    {
      "cell_type": "code",
      "source": [
        "def maxvol(mat, n, m, r, eps = 0):\n",
        "\n",
        "    if not r or r > min(n, m):\n",
        "          r = min(n, m)\n",
        "\n",
        "    rows = np.random.permutation(n)\n",
        "    B = mat[rows[:r], :]\n",
        "    _, _, cols, rank = PQR(B, r, m, r, eps)\n",
        "\n",
        "    rev_rows = np.zeros(n, dtype=int)\n",
        "    rev_cols = np.zeros(m, dtype=int)\n",
        "\n",
        "    for i in range(n):\n",
        "        rev_rows[rows[i]] = i\n",
        "    for i in range(m):\n",
        "        rev_cols[cols[i]] = i\n",
        "\n",
        "    matrix = mat[np.ix_(rows, cols)]\n",
        "\n",
        "    R = np.arange(r)\n",
        "\n",
        "    C = matrix[:, :r]\n",
        "    A = C[:r, :]\n",
        "\n",
        "    inv_A = np.linalg.pinv(A)\n",
        "\n",
        "    prod = C @ inv_A\n",
        "\n",
        "    max_val_ind = np.unravel_index(np.argmax(np.abs(prod), axis=None), prod.shape)\n",
        "\n",
        "    iter = 0\n",
        "\n",
        "    while np.abs(prod[max_val_ind]) > 1.000001 and max_val_ind[0] >= r:\n",
        "\n",
        "        iter += 1\n",
        "\n",
        "        vec = prod[max_val_ind[0], :].copy()\n",
        "        vec[max_val_ind[1]] -= 1\n",
        "        vec /= prod[max_val_ind]\n",
        "\n",
        "        prod -= prod[:, max_val_ind[1]].reshape((-1, 1)) @ vec.reshape((1, -1))\n",
        "\n",
        "        R[max_val_ind[1]] = max_val_ind[0]\n",
        "\n",
        "        max_val_ind = np.unravel_index(np.argmax(np.abs(prod), axis=None), prod.shape)\n",
        "\n",
        "    prod = prod[rev_rows, :]\n",
        "    R = matrix[np.ix_(R, rev_cols)]\n",
        "\n",
        "    return prod, R"
      ],
      "metadata": {
        "id": "ZyPBSdZHjPaI"
      },
      "execution_count": 704,
      "outputs": []
    },
    {
      "cell_type": "markdown",
      "source": [
        "# Cross Approximation"
      ],
      "metadata": {
        "id": "W-jIGQuTuGrb"
      }
    },
    {
      "cell_type": "code",
      "source": [
        "def cross_approx(matrix, n, m, r = 0, eps = 0):\n",
        "\n",
        "    if not r and r > min(m, n):\n",
        "        r = min(m, n)\n",
        "\n",
        "    Q = np.zeros((n, r))\n",
        "    R = np.zeros((r, m))\n",
        "\n",
        "    vec = np.arange(m)\n",
        "\n",
        "    i = 0\n",
        "\n",
        "    max_el = eps + 1\n",
        "\n",
        "    while i < r and max_el * np.sqrt((n - i) * (m - i)) > eps:\n",
        "\n",
        "        ind = np.random.randint(m - i)\n",
        "        col = vec[ind]\n",
        "\n",
        "        row = np.argmax(np.abs(matrix[:, col] - Q[:, :i] @ R[:i, col]), axis=None)\n",
        "        col = np.argmax(np.abs(matrix[row, :] - Q[row, :i] @ R[:i, :]), axis=None)\n",
        "\n",
        "        val_col = matrix[:, col] - Q[:, :i] @ R[:i, col]\n",
        "        row = np.argmax(np.abs(val_col), axis=None)\n",
        "\n",
        "        val_row = matrix[row, :] - Q[row, :i] @ R[:i, :]\n",
        "\n",
        "        Q[:, i] = val_col / val_col[row]\n",
        "        R[i, :] = val_row\n",
        "\n",
        "        max_el = np.abs(val_col[row])\n",
        "\n",
        "        ind = np.where(vec == col)[0][0]\n",
        "\n",
        "        vec = np.delete(vec, ind)\n",
        "\n",
        "        i += 1\n",
        "\n",
        "    return Q, R, i"
      ],
      "metadata": {
        "id": "T9PgcBUqwnzi"
      },
      "execution_count": 4,
      "outputs": []
    },
    {
      "cell_type": "markdown",
      "source": [
        "# Cross Approximation Dzheltkov"
      ],
      "metadata": {
        "id": "QKQqB9VTWSHr"
      }
    },
    {
      "cell_type": "code",
      "source": [
        "def cross_approx_dzh(matrix, n, m, r = 0, eps = 0):\n",
        "\n",
        "    if not r and r > min(m, n):\n",
        "        r = min(m, n)\n",
        "\n",
        "    Q = np.zeros((n, r))\n",
        "    R = np.zeros((r, m))\n",
        "\n",
        "    i = 0\n",
        "    err = eps + 1\n",
        "\n",
        "    cols = np.zeros((n, r + 1))\n",
        "    ind_cols = np.ones(r + 1, dtype=int) * m\n",
        "    ind_cols[0] = np.random.randint(m)\n",
        "    cols[:, 0] = matrix[:, ind_cols[0]]\n",
        "    free_col = 1\n",
        "\n",
        "    vec_cols = np.arange(m)\n",
        "\n",
        "    rows = np.zeros((r + 1, m))\n",
        "    ind_rows = np.ones(r + 1, dtype=int) * n\n",
        "    ind_rows[0] = np.argmax(np.abs(cols[:, 0]))\n",
        "    rows[0, :] = matrix[ind_rows[0], :]\n",
        "    free_row = 1\n",
        "\n",
        "    vec_rows = np.arange(n)\n",
        "\n",
        "    while i < r and err > eps:\n",
        "\n",
        "        row_1, col_1 = np.unravel_index(np.argmax(np.abs(cols[:, :free_col])), cols[:, :free_col].shape)\n",
        "        row_2, col_2 = np.unravel_index(np.argmax(np.abs(rows[:free_row, :])), rows[:free_row, :].shape)\n",
        "\n",
        "        if row_1 == ind_rows[row_2] and col_2 == ind_cols[col_1]:\n",
        "\n",
        "            Q[:, i] = cols[:, col_1] / cols[row_1, col_1]\n",
        "            R[i, :] = rows[row_2, :]\n",
        "\n",
        "            cols = np.delete(cols, col_1, 1)\n",
        "            rows = np.delete(rows, row_2, 0)\n",
        "\n",
        "            ind_cols = np.delete(ind_cols, col_1)\n",
        "            ind_rows = np.delete(ind_rows, row_2)\n",
        "\n",
        "            free_col -= 1\n",
        "            free_row -= 1\n",
        "\n",
        "            cols[:, :free_col] -= Q[:, i].reshape((-1, 1)) @ R[i, ind_cols[:free_col]].reshape((1, -1))\n",
        "            rows[:free_row, :] -= Q[ind_rows[:free_row], i].reshape((-1, 1)) @ R[i, :].reshape((1, -1))\n",
        "\n",
        "            ind = np.where(vec_cols == col_2)[0][0]\n",
        "            vec_cols = np.delete(vec_cols, ind)\n",
        "\n",
        "            ind = np.where(vec_rows == row_1)[0][0]\n",
        "            vec_rows = np.delete(vec_rows, ind)\n",
        "\n",
        "        elif np.abs(cols[row_1, col_1]) > np.abs(rows[row_2, col_2]):\n",
        "\n",
        "            rows[free_row, :] = matrix[row_1, :] - Q[row_1, :i] @ R[:i, :]\n",
        "            col = np.argmax(np.abs(rows[free_row, :]))\n",
        "\n",
        "            if col == ind_cols[col_1]:\n",
        "\n",
        "                Q[:, i] = cols[:, col_1] / cols[row_1, col_1]\n",
        "                R[i, :] = rows[free_row, :]\n",
        "\n",
        "                cols = np.delete(cols, col_1, 1)\n",
        "                ind_cols = np.delete(ind_cols, col_1)\n",
        "                free_col -= 1\n",
        "\n",
        "                ind = np.where(vec_rows == row_1)[0][0]\n",
        "\n",
        "            else:\n",
        "\n",
        "                ind_rows[free_row] = row_1\n",
        "                free_row += 1\n",
        "\n",
        "                Q[:, i] = matrix[:, col] - Q[:, :i] @ R[:i, col]\n",
        "                row = np.argmax(np.abs(Q[:, i]))\n",
        "\n",
        "                R[i, :] =  (matrix[row, :] - Q[row, :i] @ R[:i, :]) / Q[row, i]\n",
        "\n",
        "                ind = np.where(vec_rows == row)[0][0]\n",
        "\n",
        "            vec_rows = np.delete(vec_rows, ind)\n",
        "\n",
        "            cols[:, :free_col] -= Q[:, i].reshape((-1, 1)) @ R[i, ind_cols[:free_col]].reshape((1, -1))\n",
        "            rows[:free_row, :] -= Q[ind_rows[:free_row], i].reshape((-1, 1)) @ R[i, :].reshape((1, -1))\n",
        "\n",
        "            ind = np.where(vec_cols == col)[0][0]\n",
        "            vec_cols = np.delete(vec_cols, ind)\n",
        "\n",
        "        else:\n",
        "\n",
        "            cols[:, free_col] = matrix[:, col_2] - Q[:, :i] @ R[:i, col_2]\n",
        "            row = np.argmax(np.abs(cols[:, free_col]))\n",
        "\n",
        "            if row == ind_rows[row_2]:\n",
        "\n",
        "                R[i, :] = rows[row_2, :] / rows[row_2, col_2]\n",
        "                Q[:, i] = cols[:, free_col]\n",
        "\n",
        "                rows = np.delete(rows, row_2, 0)\n",
        "                ind_rows = np.delete(ind_rows, row_2)\n",
        "                free_row -= 1\n",
        "\n",
        "                ind = np.where(vec_cols == col_2)[0][0]\n",
        "\n",
        "            else:\n",
        "\n",
        "                ind_cols[free_col] = col_2\n",
        "                free_col += 1\n",
        "\n",
        "                R[i, :] = matrix[row, :] - Q[row, :i] @ R[:i, :]\n",
        "                col = np.argmax(np.abs(R[i, :]))\n",
        "\n",
        "                Q[:, i] =  (matrix[:, col] - Q[:, :i] @ R[:i, col]) / R[i, col]\n",
        "\n",
        "                ind = np.where(vec_cols == col)[0][0]\n",
        "\n",
        "            vec_cols = np.delete(vec_cols, ind)\n",
        "\n",
        "            cols[:, :free_col] -= Q[:, i].reshape((-1, 1)) @ R[i, ind_cols[:free_col]].reshape((1, -1))\n",
        "            rows[:free_row, :] -= Q[ind_rows[:free_row], i].reshape((-1, 1)) @ R[i, :].reshape((1, -1))\n",
        "\n",
        "            ind = np.where(vec_rows == row)[0][0]\n",
        "            vec_rows = np.delete(vec_rows, ind)\n",
        "\n",
        "        i += 1\n",
        "\n",
        "        if not free_col:\n",
        "            ind_cols[0] = vec_cols[np.random.randint(m - i)]\n",
        "            cols[:, 0] = matrix[:, ind_cols[0]] - Q[:, :i] @ R[:i, ind_cols[0]]\n",
        "            free_col = 1\n",
        "\n",
        "        if not free_row:\n",
        "            ind_rows[0] = vec_rows[np.random.randint(n - i)]\n",
        "            rows[0, :] = matrix[ind_rows[0], :] - Q[ind_rows[0], :i] @ R[:i, :]\n",
        "            free_row = 1\n",
        "\n",
        "        err = np.linalg.norm(rows[:free_row, :])**2 + np.linalg.norm(cols[:, :free_col])**2 - np.linalg.norm(rows[:free_row, ind_cols[:free_col]])**2\n",
        "\n",
        "        err = np.sqrt(err / (n * free_col + m * free_row - free_col * free_row) * (n - i) * (m - i))\n",
        "\n",
        "    return Q, R, i"
      ],
      "metadata": {
        "id": "yDbM5e1QFoZd"
      },
      "execution_count": 664,
      "outputs": []
    },
    {
      "cell_type": "markdown",
      "source": [
        "# R-SVD"
      ],
      "metadata": {
        "id": "je8qMTuiF1D_"
      }
    },
    {
      "cell_type": "code",
      "source": [
        "def rsvd(matrix, n, m, r):\n",
        "\n",
        "    flag = 1\n",
        "\n",
        "    if n > m:\n",
        "        matrix = matrix.T\n",
        "        n, m = m, n\n",
        "        flag = 0\n",
        "\n",
        "    N = np.random.rand(m, r * max(1, int(np.log10(m))))\n",
        "\n",
        "    Q, R = np.linalg.qr(matrix @ N)\n",
        "\n",
        "    U, s, V = lg.svds(Q.T @ matrix, k = r)\n",
        "\n",
        "    U = Q @ U\n",
        "\n",
        "    if flag:\n",
        "        return U, s, V\n",
        "    else:\n",
        "        return V.T, s, U.T"
      ],
      "metadata": {
        "id": "R3bx9o7GFz29"
      },
      "execution_count": 107,
      "outputs": []
    },
    {
      "cell_type": "markdown",
      "source": [
        "# Create matrix"
      ],
      "metadata": {
        "id": "kZZ99FIhs7u5"
      }
    },
    {
      "cell_type": "code",
      "source": [
        "n = 1000\n",
        "m = 1000\n",
        "mat_cr = np.zeros((n, m))\n",
        "\n",
        "for i in range(n):\n",
        "    for j in range(m):\n",
        "        mat_cr[i, j] = 1 / (i + j + 1)\n",
        "\n"
      ],
      "metadata": {
        "id": "YjdIq508_T0k"
      },
      "execution_count": 108,
      "outputs": []
    },
    {
      "cell_type": "code",
      "source": [
        "matrix = mat_cr.copy()\n",
        "mat_copy = mat_cr.copy()"
      ],
      "metadata": {
        "id": "5Y2kE32CBiMT"
      },
      "execution_count": 113,
      "outputs": []
    },
    {
      "cell_type": "markdown",
      "source": [
        "# Run R-SVD"
      ],
      "metadata": {
        "id": "TT09WBdQPGhm"
      }
    },
    {
      "cell_type": "code",
      "source": [
        "start_time = time.time()\n",
        "U, s, V = rsvd(matrix, n, m, 24)\n",
        "end_time = time.time()\n",
        "print(f\"time = {end_time - start_time}\")\n",
        "\n",
        "print(np.linalg.norm((U * s) @ V - mat_copy) / np.linalg.norm(mat_copy))"
      ],
      "metadata": {
        "colab": {
          "base_uri": "https://localhost:8080/"
        },
        "id": "WlC7pBJjPJbW",
        "outputId": "186c2340-10de-4f63-f566-60410aa6d79f"
      },
      "execution_count": 114,
      "outputs": [
        {
          "output_type": "stream",
          "name": "stdout",
          "text": [
            "time = 0.15114521980285645\n",
            "8.587844140094899e-13\n"
          ]
        }
      ]
    },
    {
      "cell_type": "markdown",
      "source": [
        "# Run Cross Approximation"
      ],
      "metadata": {
        "id": "blQURv74s_-x"
      }
    },
    {
      "cell_type": "code",
      "source": [
        "start_time = time.time()\n",
        "Q, R, rank = cross_approx(matrix, n, m, 30, eps = 10**(-10))\n",
        "end_time = time.time()\n",
        "print(f\"time = {end_time - start_time}\")\n",
        "\n",
        "print(np.linalg.norm(Q @ R - mat_copy) / np.linalg.norm(mat_copy))\n",
        "print(f'rank = {rank}')"
      ],
      "metadata": {
        "colab": {
          "base_uri": "https://localhost:8080/"
        },
        "id": "wPkmnvdXpXvv",
        "outputId": "269a93c4-d6e0-4ce2-9d7a-459249e09e1d"
      },
      "execution_count": 672,
      "outputs": [
        {
          "output_type": "stream",
          "name": "stdout",
          "text": [
            "time = 0.031072378158569336\n",
            "4.597909895129225e-13\n",
            "rank = 24\n"
          ]
        }
      ]
    },
    {
      "cell_type": "markdown",
      "source": [
        "# Run Cross Approximation Dzheltkov"
      ],
      "metadata": {
        "id": "MhZmC-FbFiU2"
      }
    },
    {
      "cell_type": "code",
      "source": [
        "start_time = time.time()\n",
        "Q, R, rank = cross_approx_dzh(matrix, n, m, 30, eps = 10**(-10))\n",
        "end_time = time.time()\n",
        "print(f\"time = {end_time - start_time}\")\n",
        "\n",
        "print(np.linalg.norm(Q @ R - mat_copy) / np.linalg.norm(mat_copy))\n",
        "print(f'rank = {rank}')"
      ],
      "metadata": {
        "colab": {
          "base_uri": "https://localhost:8080/"
        },
        "id": "28vf0D7iFnvB",
        "outputId": "39d23b39-f21a-49f5-d1dc-f40a595e9dba"
      },
      "execution_count": 674,
      "outputs": [
        {
          "output_type": "stream",
          "name": "stdout",
          "text": [
            "time = 0.011477947235107422\n",
            "5.944791153644091e-11\n",
            "rank = 21\n"
          ]
        }
      ]
    },
    {
      "cell_type": "markdown",
      "source": [
        "# Run PQR"
      ],
      "metadata": {
        "id": "CUD3lzQ8tDOX"
      }
    },
    {
      "cell_type": "code",
      "source": [
        "start_time = time.time()\n",
        "Q, R, P, rank = PQR(matrix, n, m, 30, eps = 10**(-10))\n",
        "end_time = time.time()\n",
        "print(f\"time = {end_time - start_time}\")\n",
        "\n",
        "print(np.linalg.norm(Q @ R - mat_copy[:, P]) / np.linalg.norm(mat_copy))\n",
        "print(f'rank = {rank}')"
      ],
      "metadata": {
        "colab": {
          "base_uri": "https://localhost:8080/"
        },
        "id": "J1oaiZp7ACKU",
        "outputId": "af2dab6a-2228-43c3-f13c-58cb5079e489"
      },
      "execution_count": 680,
      "outputs": [
        {
          "output_type": "stream",
          "name": "stdout",
          "text": [
            "time = 0.378800630569458\n",
            "2.41639545483056e-12\n",
            "rank = 22\n"
          ]
        }
      ]
    },
    {
      "cell_type": "markdown",
      "source": [
        "# Run MaxVol"
      ],
      "metadata": {
        "id": "wzAYOA-otEfn"
      }
    },
    {
      "cell_type": "code",
      "source": [
        "start_time = time.time()\n",
        "Q, R = maxvol(matrix, n, m, 22)\n",
        "end_time = time.time()\n",
        "print(f\"time = {end_time - start_time}\")\n",
        "\n",
        "print(np.linalg.norm(Q @ R - mat_copy) / np.linalg.norm(mat_copy))"
      ],
      "metadata": {
        "colab": {
          "base_uri": "https://localhost:8080/"
        },
        "id": "KQAznHfbq-vY",
        "outputId": "0cea4a7a-0289-47a6-9528-1527f10ecd06"
      },
      "execution_count": 728,
      "outputs": [
        {
          "output_type": "stream",
          "name": "stdout",
          "text": [
            "time = 0.2122347354888916\n",
            "8.25962852270186e-05\n"
          ]
        }
      ]
    }
  ]
}