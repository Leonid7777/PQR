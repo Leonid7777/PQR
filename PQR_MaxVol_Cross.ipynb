{
  "nbformat": 4,
  "nbformat_minor": 0,
  "metadata": {
    "colab": {
      "provenance": []
    },
    "kernelspec": {
      "name": "python3",
      "display_name": "Python 3"
    },
    "language_info": {
      "name": "python"
    }
  },
  "cells": [
    {
      "cell_type": "markdown",
      "source": [
        "# Import packages"
      ],
      "metadata": {
        "id": "u27llm79t282"
      }
    },
    {
      "cell_type": "code",
      "execution_count": 1,
      "metadata": {
        "id": "kRd_bD3bo4Oj"
      },
      "outputs": [],
      "source": [
        "import numpy as np\n",
        "import time\n",
        "from copy import deepcopy"
      ]
    },
    {
      "cell_type": "markdown",
      "source": [
        "# PQR"
      ],
      "metadata": {
        "id": "DcsvYtByuDZR"
      }
    },
    {
      "cell_type": "code",
      "source": [
        "def PQR(matrix, n, m, r = 0, eps = 0):\n",
        "\n",
        "    if not r or r > min(m, n):\n",
        "        r = min(m, n)\n",
        "\n",
        "    Q = np.zeros((n, r))\n",
        "    R = np.zeros((r, m))\n",
        "    P = np.arange(m)\n",
        "\n",
        "    tol = eps + 1\n",
        "    i = 0\n",
        "\n",
        "    while i < r and tol > eps:\n",
        "\n",
        "        norms = np.array([np.linalg.norm(matrix[:, j]) for j in range(i, m)])\n",
        "        tol = np.sqrt(np.sum(norms**2))\n",
        "        args = np.argsort(norms)[::-1]\n",
        "        args += i\n",
        "\n",
        "        P[[i, args[0]]] = P[[args[0], i]]\n",
        "        R[:, [i, args[0]]]  = R[:, [args[0], i]]\n",
        "        matrix[:, [i, args[0]]] = matrix[:, [args[0], i]]\n",
        "\n",
        "        R[i, i] = norms[args[0] - i]\n",
        "        Q[:, i] = matrix[:, i] / R[i, i]\n",
        "\n",
        "        for j in range(i + 1, m):\n",
        "            R[i, j] = matrix[:, j] @ Q[:, i]\n",
        "            matrix[:, j] -= R[i, j] * Q[:, i]\n",
        "\n",
        "        i += 1\n",
        "\n",
        "    return Q, R, P, i"
      ],
      "metadata": {
        "id": "Gbgwj3sBFTtA"
      },
      "execution_count": 2,
      "outputs": []
    },
    {
      "cell_type": "markdown",
      "source": [
        "# MaxVol"
      ],
      "metadata": {
        "id": "5PurFddzuAO8"
      }
    },
    {
      "cell_type": "code",
      "source": [
        "def maxvol(mat, n, m, r, eps = 0):\n",
        "\n",
        "    if not r or r > min(n, m):\n",
        "          r = min(n, m)\n",
        "\n",
        "    rows = np.random.permutation(n)\n",
        "    B = mat[rows[:r], :]\n",
        "    _, _, cols, rank = PQR(B, r, m, r, eps)\n",
        "\n",
        "\n",
        "    rev_rows = np.zeros(n, dtype=int)\n",
        "    rev_cols = np.zeros(m, dtype=int)\n",
        "\n",
        "    for i in range(n):\n",
        "        rev_rows[rows[i]] = i\n",
        "    for i in range(m):\n",
        "        rev_cols[cols[i]] = i\n",
        "\n",
        "    matrix = mat[np.ix_(rows, cols)]\n",
        "\n",
        "    R = np.arange(r)\n",
        "\n",
        "    C = matrix[:, :r]\n",
        "    A = C[:r, :]\n",
        "\n",
        "    inv_A = np.linalg.pinv(A)\n",
        "\n",
        "    prod = C @ inv_A\n",
        "\n",
        "    max_val_ind = np.unravel_index(np.argmax(np.abs(prod), axis=None), prod.shape)\n",
        "\n",
        "    iter = 0\n",
        "\n",
        "    while np.abs(prod[max_val_ind]) > 1 and max_val_ind[0] >= r and iter < r * r:\n",
        "\n",
        "        iter += 1\n",
        "\n",
        "        vec = prod[max_val_ind[0], :].copy()\n",
        "        vec[max_val_ind[1]] -= 1\n",
        "        vec /= prod[max_val_ind]\n",
        "\n",
        "        prod -= prod[:, max_val_ind[1]].reshape((-1, 1)) @ vec.reshape((1, -1))\n",
        "\n",
        "        R[max_val_ind[1]] = max_val_ind[0]\n",
        "\n",
        "        max_val_ind = np.unravel_index(np.argmax(np.abs(prod), axis=None), prod.shape)\n",
        "\n",
        "    prod = prod[rev_rows, :]\n",
        "    R = matrix[np.ix_(R, rev_cols)]\n",
        "\n",
        "    return prod, R"
      ],
      "metadata": {
        "id": "ZyPBSdZHjPaI"
      },
      "execution_count": 3,
      "outputs": []
    },
    {
      "cell_type": "markdown",
      "source": [
        "# Cross Approximation"
      ],
      "metadata": {
        "id": "W-jIGQuTuGrb"
      }
    },
    {
      "cell_type": "code",
      "source": [
        "def cross_approx(matrix, n, m, r = 0, eps = 0):\n",
        "\n",
        "    if not r and r > min(m, n):\n",
        "        r = min(m, n)\n",
        "\n",
        "    Q = np.zeros((n, r))\n",
        "    R = np.zeros((r, m))\n",
        "\n",
        "    vec = np.arange(m)\n",
        "\n",
        "    i = 0\n",
        "\n",
        "    max_el = eps + 1\n",
        "\n",
        "    while i < r and max_el * np.sqrt((n - i) * (m - i)) > eps:\n",
        "\n",
        "        ind = np.random.randint(m - i)\n",
        "        col = vec[ind]\n",
        "\n",
        "        row = np.argmax(np.abs(matrix[:, col] - Q[:, :i] @ R[:i, col]), axis=None)\n",
        "        col = np.argmax(np.abs(matrix[row, :] - Q[row, :i] @ R[:i, :]), axis=None)\n",
        "\n",
        "        val_col = matrix[:, col] - Q[:, :i] @ R[:i, col]\n",
        "        row = np.argmax(np.abs(val_col), axis=None)\n",
        "\n",
        "        val_row = matrix[row, :] - Q[row, :i] @ R[:i, :]\n",
        "\n",
        "        Q[:, i] = val_col / val_col[row]\n",
        "        R[i, :] = val_row\n",
        "\n",
        "        max_el = np.abs(matrix[row, col])\n",
        "\n",
        "        ind = np.where(vec == col)[0][0]\n",
        "\n",
        "        vec = np.delete(vec, ind)\n",
        "\n",
        "        i += 1\n",
        "\n",
        "    return Q, R, i"
      ],
      "metadata": {
        "id": "T9PgcBUqwnzi"
      },
      "execution_count": 4,
      "outputs": []
    },
    {
      "cell_type": "markdown",
      "source": [
        "# Cross Approximation Dzheltkov"
      ],
      "metadata": {
        "id": "QKQqB9VTWSHr"
      }
    },
    {
      "cell_type": "code",
      "source": [
        "def cross_approx_dzh(matrix, n, m, r = 0, eps = 0):\n",
        "\n",
        "    if not r and r > min(m, n):\n",
        "        r = min(m, n)\n",
        "\n",
        "    Q = np.zeros((n, r))\n",
        "    R = np.zeros((r, m))\n",
        "\n",
        "    vec = np.arange(m)\n",
        "\n",
        "    i = 0\n",
        "    max_el = eps + 1\n",
        "\n",
        "    rows = np.zeros((r, m))\n",
        "    ind_rows = np.ones(r, dtype=int) * n\n",
        "    free_row = 0\n",
        "    cols = np.zeros((n, r))\n",
        "    ind_cols = np.ones(r, dtype=int) * m\n",
        "    free_col = 0\n",
        "\n",
        "    while i < r and max_el * np.sqrt((n - i) * (m - i)) > eps:\n",
        "\n",
        "        ind = np.random.randint(m - i)\n",
        "        col = vec[ind]\n",
        "\n",
        "        if col in ind_cols:\n",
        "            val = np.where(ind_cols == col)[0][0]\n",
        "            row = np.argmax(np.abs(cols[:, val]), axis=None)\n",
        "        else:\n",
        "            cols[:, free_col] = matrix[:, col] - Q[:, :i] @ R[:i, col]\n",
        "            ind_cols[free_col] = col\n",
        "            row = np.argmax(np.abs(cols[:,free_col]), axis=None)\n",
        "            free_col += 1\n",
        "\n",
        "        if row in ind_rows:\n",
        "            val = np.where(ind_rows == row)[0][0]\n",
        "            col = np.argmax(np.abs(rows[val, :]), axis=None)\n",
        "        else:\n",
        "            rows[free_row, :] = matrix[row, :] - Q[row, :i] @ R[:i, :]\n",
        "            ind_rows[free_row] = row\n",
        "            col = np.argmax(np.abs(rows[free_row, :]), axis=None)\n",
        "            free_row += 1\n",
        "\n",
        "        if col in ind_cols:\n",
        "            val = np.where(ind_cols == col)[0][0]\n",
        "            val_col = cols[:, val]\n",
        "            row = np.argmax(np.abs(val_col), axis=None)\n",
        "        else:\n",
        "            val_col = matrix[:, col] - Q[:, :i] @ R[:i, col]\n",
        "            row = np.argmax(np.abs(val_col), axis=None)\n",
        "\n",
        "        val_row = matrix[row, :] - Q[row, :i] @ R[:i, :]\n",
        "\n",
        "        Q[:, i] = val_col / val_col[row]\n",
        "        R[i, :] = val_row\n",
        "\n",
        "        if col in ind_cols:\n",
        "            val = np.where(ind_cols == col)[0][0]\n",
        "            ind_cols = np.delete(ind_cols, val)\n",
        "            cols = np.delete(cols, val, 1)\n",
        "            free_col -= 1\n",
        "\n",
        "        if row in ind_rows:\n",
        "            val = np.where(ind_rows == row)[0][0]\n",
        "            ind_rows = np.delete(ind_rows, val)\n",
        "            rows = np.delete(rows, val, 0)\n",
        "            free_row -= 1\n",
        "\n",
        "        rows[:free_row, :] -= Q[ind_rows[:free_row], i].reshape((-1, 1)) @ R[i, :].reshape((1, -1))\n",
        "        cols[:, :free_col] -= Q[:, i].reshape((-1, 1)) @ R[i, ind_cols[:free_col]].reshape((1, -1))\n",
        "\n",
        "        max_el = np.abs(val_col[row])\n",
        "        ind = np.where(vec == col)[0][0]\n",
        "        vec = np.delete(vec, ind)\n",
        "        i += 1\n",
        "\n",
        "    return Q, R, i"
      ],
      "metadata": {
        "id": "k_CSU-N7WRGc"
      },
      "execution_count": 153,
      "outputs": []
    },
    {
      "cell_type": "markdown",
      "source": [
        "# Create matrix"
      ],
      "metadata": {
        "id": "kZZ99FIhs7u5"
      }
    },
    {
      "cell_type": "code",
      "source": [
        "n = 1000\n",
        "m = 1000\n",
        "mat_cr = np.zeros((n, m))\n",
        "\n",
        "for i in range(n):\n",
        "    for j in range(m):\n",
        "        mat_cr[i, j] = 1 / (i + j + 1)"
      ],
      "metadata": {
        "id": "YjdIq508_T0k"
      },
      "execution_count": 7,
      "outputs": []
    },
    {
      "cell_type": "code",
      "source": [
        "matrix = mat_cr.copy()\n",
        "mat_copy = mat_cr.copy()"
      ],
      "metadata": {
        "id": "5Y2kE32CBiMT"
      },
      "execution_count": 162,
      "outputs": []
    },
    {
      "cell_type": "markdown",
      "source": [
        "# Run Cross Approximation"
      ],
      "metadata": {
        "id": "blQURv74s_-x"
      }
    },
    {
      "cell_type": "code",
      "source": [
        "start_time = time.time()\n",
        "Q, R, rank = cross_approx(matrix, n, m, 20)\n",
        "end_time = time.time()\n",
        "print(f\"time = {end_time - start_time}\")\n",
        "\n",
        "print(np.linalg.norm(Q @ R - mat_copy) / np.linalg.norm(mat_copy))"
      ],
      "metadata": {
        "colab": {
          "base_uri": "https://localhost:8080/"
        },
        "id": "wPkmnvdXpXvv",
        "outputId": "a305e9ba-beea-4d72-dd03-af145b1441ca"
      },
      "execution_count": 161,
      "outputs": [
        {
          "output_type": "stream",
          "name": "stdout",
          "text": [
            "time = 0.00612950325012207\n",
            "1.5798740392664099e-10\n"
          ]
        }
      ]
    },
    {
      "cell_type": "markdown",
      "source": [
        "# Run Cross Approximation Dzheltkov"
      ],
      "metadata": {
        "id": "MhZmC-FbFiU2"
      }
    },
    {
      "cell_type": "code",
      "source": [
        "start_time = time.time()\n",
        "Q, R, rank = cross_approx_dzh(matrix, n, m, 20)\n",
        "end_time = time.time()\n",
        "print(f\"time = {end_time - start_time}\")\n",
        "\n",
        "print(np.linalg.norm(Q @ R - mat_copy) / np.linalg.norm(mat_copy))"
      ],
      "metadata": {
        "colab": {
          "base_uri": "https://localhost:8080/"
        },
        "id": "28vf0D7iFnvB",
        "outputId": "40cb4759-f2c1-41d6-abd4-be98428f139b"
      },
      "execution_count": 163,
      "outputs": [
        {
          "output_type": "stream",
          "name": "stdout",
          "text": [
            "time = 0.010917186737060547\n",
            "1.0267451585140687e-10\n"
          ]
        }
      ]
    },
    {
      "cell_type": "markdown",
      "source": [
        "# Run PQR"
      ],
      "metadata": {
        "id": "CUD3lzQ8tDOX"
      }
    },
    {
      "cell_type": "code",
      "source": [
        "start_time = time.time()\n",
        "Q, R, P, rank = PQR(matrix, n, m, 10)\n",
        "end_time = time.time()\n",
        "print(f\"time = {end_time - start_time}\")\n",
        "\n",
        "print(np.linalg.norm(Q @ R - mat_copy[:, P]) / np.linalg.norm(mat_copy))"
      ],
      "metadata": {
        "colab": {
          "base_uri": "https://localhost:8080/"
        },
        "id": "J1oaiZp7ACKU",
        "outputId": "8484c249-c0fe-4252-f665-30485932a510"
      },
      "execution_count": 212,
      "outputs": [
        {
          "output_type": "stream",
          "name": "stdout",
          "text": [
            "time = 0.18038082122802734\n",
            "2.3628691531130358e-05\n"
          ]
        }
      ]
    },
    {
      "cell_type": "markdown",
      "source": [
        "# Run MaxVol"
      ],
      "metadata": {
        "id": "wzAYOA-otEfn"
      }
    },
    {
      "cell_type": "code",
      "source": [
        "start_time = time.time()\n",
        "Q, R = maxvol(matrix, n, m, 20)\n",
        "end_time = time.time()\n",
        "print(f\"time = {end_time - start_time}\")\n",
        "\n",
        "print(np.linalg.norm(Q @ R - mat_copy) / np.linalg.norm(mat_copy))"
      ],
      "metadata": {
        "colab": {
          "base_uri": "https://localhost:8080/"
        },
        "id": "KQAznHfbq-vY",
        "outputId": "41c0b943-7e8a-4757-95c5-ca3e952c03f7"
      },
      "execution_count": 231,
      "outputs": [
        {
          "output_type": "stream",
          "name": "stdout",
          "text": [
            "time = 0.19413137435913086\n",
            "0.0007071955025624902\n"
          ]
        }
      ]
    }
  ]
}