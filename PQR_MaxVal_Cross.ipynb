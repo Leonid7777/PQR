{
  "nbformat": 4,
  "nbformat_minor": 0,
  "metadata": {
    "colab": {
      "provenance": []
    },
    "kernelspec": {
      "name": "python3",
      "display_name": "Python 3"
    },
    "language_info": {
      "name": "python"
    }
  },
  "cells": [
    {
      "cell_type": "markdown",
      "source": [
        "# Import packages"
      ],
      "metadata": {
        "id": "u27llm79t282"
      }
    },
    {
      "cell_type": "code",
      "execution_count": 1,
      "metadata": {
        "id": "kRd_bD3bo4Oj"
      },
      "outputs": [],
      "source": [
        "import numpy as np\n",
        "import time"
      ]
    },
    {
      "cell_type": "markdown",
      "source": [
        "# PQR"
      ],
      "metadata": {
        "id": "DcsvYtByuDZR"
      }
    },
    {
      "cell_type": "code",
      "source": [
        "def PQR(matrix, n, m, r = 0, eps = 0):\n",
        "\n",
        "    if not r or r > min(m, n):\n",
        "        r = min(m, n)\n",
        "\n",
        "    Q = np.zeros((n, r))\n",
        "    R = np.zeros((r, m))\n",
        "    P = np.arange(m)\n",
        "\n",
        "    tol = eps + 1\n",
        "    i = 0\n",
        "\n",
        "    while i < r and tol > eps:\n",
        "\n",
        "        norms = np.array([np.linalg.norm(matrix[:, j]) for j in range(i, m)])\n",
        "        tol = np.sqrt(np.sum(norms**2))\n",
        "        args = np.argsort(norms)[::-1]\n",
        "        args += i\n",
        "\n",
        "        maxi = min(m, i + 2)\n",
        "        P[i:maxi] = P[args[:2]]\n",
        "        R[:, i:maxi] = R[:, args[:2]]\n",
        "        matrix[:, i:maxi] = matrix[:, args[:2]]\n",
        "\n",
        "        R[i, i] = norms[args[0] - i]\n",
        "        Q[:, i] = matrix[:, i] / R[i, i]\n",
        "\n",
        "        for j in range(i + 1, m):\n",
        "            R[i, j] = matrix[:, j] @ Q[:, i]\n",
        "            matrix[:, j] -= R[i, j] * Q[:, i]\n",
        "\n",
        "        i += 1\n",
        "\n",
        "    return Q, R, P, i"
      ],
      "metadata": {
        "id": "Gbgwj3sBFTtA"
      },
      "execution_count": 259,
      "outputs": []
    },
    {
      "cell_type": "markdown",
      "source": [
        "# MaxVal"
      ],
      "metadata": {
        "id": "5PurFddzuAO8"
      }
    },
    {
      "cell_type": "code",
      "source": [
        "def maxval(mat, n, m, r, eps = 0):\n",
        "\n",
        "    if not r or r > min(n, m):\n",
        "          r = min(n, m)\n",
        "\n",
        "    rows = np.random.permutation(n)\n",
        "    cols = np.random.permutation(m)\n",
        "\n",
        "    while np.linalg.det(mat[np.ix_(rows[:r], cols[:r])]) == 0:\n",
        "        rows = np.random.permutation(n)\n",
        "        cols = np.random.permutation(m)\n",
        "\n",
        "    matrix = mat[np.ix_(rows, cols)]\n",
        "\n",
        "    C = matrix[:, :r]\n",
        "    A = C[:r, :]\n",
        "    inv_A = np.linalg.inv(A)\n",
        "\n",
        "    prod = C @ inv_A\n",
        "\n",
        "    max_val_ind = np.unravel_index(np.argmax(np.abs(prod), axis=None), prod.shape)\n",
        "\n",
        "    iter = 0\n",
        "\n",
        "    R = np.arange(r)\n",
        "\n",
        "    while max_val_ind[0] >= r and iter < r * r:\n",
        "\n",
        "        iter += 1\n",
        "\n",
        "        vec = prod[max_val_ind[0], :].copy()\n",
        "        vec[max_val_ind[1]] -= 1\n",
        "        vec /= prod[max_val_ind]\n",
        "\n",
        "        prod -= prod[:, max_val_ind[1]].reshape((-1, 1)) @ vec.reshape((1, -1))\n",
        "\n",
        "        R[max_val_ind[1]] = max_val_ind[0]\n",
        "\n",
        "        max_val_ind = np.unravel_index(np.argmax(np.abs(prod), axis=None), prod.shape)\n",
        "\n",
        "    rev_rows = np.zeros(n, dtype=int)\n",
        "    rev_cols = np.zeros(m, dtype=int)\n",
        "    for i in range(n):\n",
        "        rev_rows[rows[i]] = i\n",
        "    for i in range(m):\n",
        "        rev_cols[cols[i]] = i\n",
        "\n",
        "    prod = prod[rev_rows, :]\n",
        "    R = matrix[np.ix_(R, rev_cols)]\n",
        "\n",
        "    return prod, R"
      ],
      "metadata": {
        "id": "ZyPBSdZHjPaI"
      },
      "execution_count": 260,
      "outputs": []
    },
    {
      "cell_type": "markdown",
      "source": [
        "# Cross Approximation"
      ],
      "metadata": {
        "id": "W-jIGQuTuGrb"
      }
    },
    {
      "cell_type": "code",
      "source": [
        "def cross_approx(matrix, n, m, r = 0, eps = 0):\n",
        "\n",
        "    if not r and r > min(m, n):\n",
        "        r = min(m, n)\n",
        "\n",
        "    Q = np.zeros((n, r))\n",
        "    R = np.zeros((r, m))\n",
        "\n",
        "    vec = np.random.permutation(m)\n",
        "\n",
        "    i = 0\n",
        "\n",
        "    max_el = eps + 1\n",
        "\n",
        "    while i < r and max_el * np.sqrt((n - i) * (m - i)) > eps:\n",
        "\n",
        "        col = vec[i]\n",
        "\n",
        "        row = np.argmax(np.abs(matrix[:, col]), axis=None)\n",
        "        col = np.argmax(np.abs(matrix[row, :]), axis=None)\n",
        "        row = np.argmax(np.abs(matrix[:, col]), axis=None)\n",
        "\n",
        "        Q[:, i] = matrix[:, col] / matrix[row, col]\n",
        "        R[i, :] = matrix[row, :]\n",
        "\n",
        "        max_el = np.abs(matrix[row, col])\n",
        "\n",
        "        matrix -= Q[:, i].reshape((-1, 1)) @ R[i, :].reshape((1, -1))\n",
        "\n",
        "        i += 1\n",
        "\n",
        "    return Q, R, i"
      ],
      "metadata": {
        "id": "T9PgcBUqwnzi"
      },
      "execution_count": 261,
      "outputs": []
    },
    {
      "cell_type": "markdown",
      "source": [
        "# Create matrix"
      ],
      "metadata": {
        "id": "kZZ99FIhs7u5"
      }
    },
    {
      "cell_type": "code",
      "source": [
        "n = 10000\n",
        "m = 11000\n",
        "mat_cr = np.zeros((n, m))\n",
        "\n",
        "for i in range(n):\n",
        "    for j in range(m):\n",
        "        mat_cr[i, j] = np.sin(i + j)"
      ],
      "metadata": {
        "id": "YjdIq508_T0k"
      },
      "execution_count": 270,
      "outputs": []
    },
    {
      "cell_type": "code",
      "source": [
        "matrix = mat_cr.copy()\n",
        "mat_copy = mat_cr.copy()"
      ],
      "metadata": {
        "id": "5Y2kE32CBiMT"
      },
      "execution_count": 275,
      "outputs": []
    },
    {
      "cell_type": "markdown",
      "source": [
        "# Run Cross Approximation"
      ],
      "metadata": {
        "id": "blQURv74s_-x"
      }
    },
    {
      "cell_type": "code",
      "source": [
        "start_time = time.time()\n",
        "Q, R, rank = cross_approx(matrix, n, m, 2)\n",
        "end_time = time.time()\n",
        "print(f\"time = {end_time - start_time}\")\n",
        "\n",
        "print(np.linalg.norm(Q @ R - mat_copy) / np.linalg.norm(mat_copy))"
      ],
      "metadata": {
        "colab": {
          "base_uri": "https://localhost:8080/"
        },
        "id": "wPkmnvdXpXvv",
        "outputId": "2320c180-d26b-4674-bc98-59da817b70a0"
      },
      "execution_count": 272,
      "outputs": [
        {
          "output_type": "stream",
          "name": "stdout",
          "text": [
            "time = 0.6367335319519043\n",
            "1.0430439340674315e-16\n"
          ]
        }
      ]
    },
    {
      "cell_type": "markdown",
      "source": [
        "# Run PQR"
      ],
      "metadata": {
        "id": "CUD3lzQ8tDOX"
      }
    },
    {
      "cell_type": "code",
      "source": [
        "start_time = time.time()\n",
        "Q, R, P, rank = PQR(matrix, n, m, 2)\n",
        "end_time = time.time()\n",
        "print(f\"time = {end_time - start_time}\")\n",
        "\n",
        "print(np.linalg.norm(Q @ R - mat_copy[:, P]) / np.linalg.norm(mat_copy))"
      ],
      "metadata": {
        "colab": {
          "base_uri": "https://localhost:8080/"
        },
        "id": "J1oaiZp7ACKU",
        "outputId": "dfc62f27-6334-49be-f423-250f853d4ef0"
      },
      "execution_count": 274,
      "outputs": [
        {
          "output_type": "stream",
          "name": "stdout",
          "text": [
            "time = 1.7285501956939697\n",
            "9.95957240225309e-16\n"
          ]
        }
      ]
    },
    {
      "cell_type": "markdown",
      "source": [
        "# Run MaxVal"
      ],
      "metadata": {
        "id": "wzAYOA-otEfn"
      }
    },
    {
      "cell_type": "code",
      "source": [
        "start_time = time.time()\n",
        "Q, R = maxval(matrix, n, m, 2)\n",
        "end_time = time.time()\n",
        "print(f\"time = {end_time - start_time}\")\n",
        "\n",
        "print(np.linalg.norm(Q @ R - mat_copy) / np.linalg.norm(mat_copy))"
      ],
      "metadata": {
        "colab": {
          "base_uri": "https://localhost:8080/"
        },
        "id": "KQAznHfbq-vY",
        "outputId": "e9381718-1b05-46d9-d7d7-1132407a7610"
      },
      "execution_count": 276,
      "outputs": [
        {
          "output_type": "stream",
          "name": "stdout",
          "text": [
            "time = 0.9186685085296631\n",
            "2.3351905223962953e-16\n"
          ]
        }
      ]
    }
  ]
}
