{
  "nbformat": 4,
  "nbformat_minor": 0,
  "metadata": {
    "colab": {
      "provenance": []
    },
    "kernelspec": {
      "name": "python3",
      "display_name": "Python 3"
    },
    "language_info": {
      "name": "python"
    }
  },
  "cells": [
    {
      "cell_type": "code",
      "execution_count": null,
      "metadata": {
        "id": "kRd_bD3bo4Oj"
      },
      "outputs": [],
      "source": [
        "import numpy as np"
      ]
    },
    {
      "cell_type": "code",
      "source": [
        "def PQR(matrix, n, r = 0):\n",
        "\n",
        "    if not r or r > n:\n",
        "        r = n\n",
        "\n",
        "    Q = np.zeros((n, r))\n",
        "    R = np.zeros((r, n))\n",
        "    P = np.eye(n)\n",
        "\n",
        "    for i in range(r):\n",
        "\n",
        "        norms = np.array([np.linalg.norm(matrix[:, j]) for j in range(i, n)])\n",
        "        args = np.argsort(norms)[::-1]\n",
        "        args += i\n",
        "\n",
        "        P[:, i:] = P[:, args]\n",
        "        R[:, i:] = R[:, args]\n",
        "        matrix[:, i:] = matrix[:, args]\n",
        "\n",
        "        R[i, i] = norms[args[0] - i]\n",
        "        Q[:, i] = matrix[:, i] / R[i, i]\n",
        "\n",
        "        for j in range(i + 1, n):\n",
        "            R[i, j] = matrix[:, j] @ Q[:, i]\n",
        "            matrix[:, j] -= R[i, j] * Q[:, i]\n",
        "\n",
        "    return Q, R, P"
      ],
      "metadata": {
        "id": "CwxA0rg0weHt"
      },
      "execution_count": 426,
      "outputs": []
    },
    {
      "cell_type": "code",
      "source": [
        "n = 1000\n",
        "matrix = np.zeros((n, n))\n",
        "copy_mat = np.zeros((n, n))\n",
        "\n",
        "for i in range(n):\n",
        "    for j in range(n):\n",
        "        matrix[i, j] = np.sin(i + j)\n",
        "        copy_mat[i, j] = np.sin(i + j)\n",
        "\n",
        "print(\"rank =\", np.linalg.matrix_rank(matrix))\n",
        "\n",
        "Q, R, P = PQR(matrix, n, r=2)\n",
        "\n",
        "print(\"error =\", np.linalg.norm(Q @ R - copy_mat @ P))"
      ],
      "metadata": {
        "colab": {
          "base_uri": "https://localhost:8080/"
        },
        "id": "wPkmnvdXpXvv",
        "outputId": "a41d7a62-6e4f-4ff2-8103-f92c8b785902"
      },
      "execution_count": 427,
      "outputs": [
        {
          "output_type": "stream",
          "name": "stdout",
          "text": [
            "rank = 2\n",
            "error = 2.407183537359547e-13\n"
          ]
        }
      ]
    }
  ]
}